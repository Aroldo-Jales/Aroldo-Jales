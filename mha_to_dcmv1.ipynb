{
  "nbformat": 4,
  "nbformat_minor": 0,
  "metadata": {
    "colab": {
      "provenance": [],
      "authorship_tag": "ABX9TyP+CsNpmQ+/HtI1BndWovU4",
      "include_colab_link": true
    },
    "kernelspec": {
      "name": "python3",
      "display_name": "Python 3"
    },
    "language_info": {
      "name": "python"
    }
  },
  "cells": [
    {
      "cell_type": "markdown",
      "metadata": {
        "id": "view-in-github",
        "colab_type": "text"
      },
      "source": [
        "<a href=\"https://colab.research.google.com/github/Aroldo-Jales/Aroldo-Jales/blob/main/mha_to_dcmv1.ipynb\" target=\"_parent\"><img src=\"https://colab.research.google.com/assets/colab-badge.svg\" alt=\"Open In Colab\"/></a>"
      ]
    },
    {
      "cell_type": "code",
      "source": [
        "!pip install SimpleITK"
      ],
      "metadata": {
        "colab": {
          "base_uri": "https://localhost:8080/"
        },
        "id": "uKrNUuC7FlK4",
        "outputId": "d4d9a026-15b4-4e10-bba1-4de5129570dd"
      },
      "execution_count": null,
      "outputs": [
        {
          "output_type": "stream",
          "name": "stdout",
          "text": [
            "Collecting SimpleITK\n",
            "  Downloading SimpleITK-2.3.1-cp310-cp310-manylinux_2_17_x86_64.manylinux2014_x86_64.whl (52.7 MB)\n",
            "\u001b[2K     \u001b[90m━━━━━━━━━━━━━━━━━━━━━━━━━━━━━━━━━━━━━━━━\u001b[0m \u001b[32m52.7/52.7 MB\u001b[0m \u001b[31m7.8 MB/s\u001b[0m eta \u001b[36m0:00:00\u001b[0m\n",
            "\u001b[?25hInstalling collected packages: SimpleITK\n",
            "Successfully installed SimpleITK-2.3.1\n"
          ]
        }
      ]
    },
    {
      "cell_type": "code",
      "execution_count": null,
      "metadata": {
        "id": "uZEiUsCrEGCe"
      },
      "outputs": [],
      "source": [
        "import SimpleITK as sitk\n",
        "import os\n",
        "from google.colab import drive"
      ]
    },
    {
      "cell_type": "code",
      "source": [
        "def convert_mha_to_dicom_series_with_reference(input_mha_filename, reference_dicom_path, output_dicom_dir, series_description):\n",
        "    image = sitk.ReadImage(input_mha_path)\n",
        "    reference_image = sitk.ReadImage(reference_dicom_path)\n",
        "\n",
        "    if not os.path.exists(output_dicom_dir):\n",
        "        os.makedirs(output_dicom_dir)\n",
        "\n",
        "    tags_to_copy = [\n",
        "        \"0010|0010\",  # Patient Name\n",
        "        \"0010|0020\",  # Patient ID\n",
        "        \"0010|0030\",  # Patient Birth Date\n",
        "        \"0010|0040\",  # Patient's Sex\n",
        "        \"0008|0070\",  # Manufacturer\n",
        "        \"0008|1090\",  # Manufacturer's Model Name\n",
        "        \"0008|1010\",  # Station Name\n",
        "        \"0008|0020\",  # Study Date\n",
        "        \"0008|0030\",  # Study Time\n",
        "        \"0008|0050\",  # Accession Number\n",
        "        \"0008|1030\",  # Study Description\n",
        "        \"0008|0060\",  # Modality\n",
        "        \"0020,0037\"   # ImageOrientationPatient\n",
        "    ]\n",
        "\n",
        "    direction = image.GetDirection()\n",
        "    spacing = image.GetSpacing()\n",
        "    origin = image.GetOrigin()\n",
        "\n",
        "    num_slices = image.GetDepth()\n",
        "\n",
        "    writer = sitk.ImageFileWriter()\n",
        "\n",
        "    image.SetMetaData(\"0020|000d\", reference_image.GetMetaData(\"0020|000d\"))\n",
        "    image.SetMetaData(\"0020|0010\", reference_image.GetMetaData(\"0020|0010\"))\n",
        "\n",
        "    writer.KeepOriginalImageUIDOn()\n",
        "\n",
        "    for tag in tags_to_copy:\n",
        "        if reference_image.HasMetaDataKey(tag):\n",
        "            image.SetMetaData(tag, reference_image.GetMetaData(tag))\n",
        "\n",
        "    output_filename = os.path.join(output_dicom_dir, f\"one_washout.dcm\")\n",
        "    writer.SetFileName(output_filename)\n",
        "    writer.Execute(image)\n",
        "\n",
        "    print(f\"Completed in {output_dicom_dir}\")"
      ],
      "metadata": {
        "id": "sE98OKLCEglj"
      },
      "execution_count": null,
      "outputs": []
    },
    {
      "cell_type": "code",
      "source": [
        "drive.mount('/content/drive')\n",
        "base_path = '/content/drive/MyDrive'"
      ],
      "metadata": {
        "colab": {
          "base_uri": "https://localhost:8080/"
        },
        "id": "igSTsCucE8AX",
        "outputId": "8910ed69-86dd-4e15-b499-c55e9de0dcf3"
      },
      "execution_count": null,
      "outputs": [
        {
          "output_type": "stream",
          "name": "stdout",
          "text": [
            "Mounted at /content/drive\n"
          ]
        }
      ]
    },
    {
      "cell_type": "code",
      "source": [
        "input_mha_filename = base_path+'/op_image/dicom_tests/12-imageWashIn_DMP_RGB.mha'\n",
        "reference_dicom_filename = base_path+'/op_image/dicom_tests/MR000000.dcm'\n",
        "output_dicom_dir = base_path+'/op_image/dicom_tests/conversion_result'\n",
        "series_description = \"Series Description Test\"\n",
        "\n",
        "# Converter MHA para série DICOM com referência e descrição da série\n",
        "convert_mha_to_dicom_series_with_reference(input_mha_filename, reference_dicom_filename, output_dicom_dir, series_description)"
      ],
      "metadata": {
        "id": "1pvgrg4UJ8A-",
        "colab": {
          "base_uri": "https://localhost:8080/"
        },
        "outputId": "b5f5384c-4165-4cf0-9740-6b38d357b6b0"
      },
      "execution_count": null,
      "outputs": [
        {
          "output_type": "stream",
          "name": "stdout",
          "text": [
            "Completed in /content/drive/MyDrive/op_image/dicom_tests/conversion_result\n"
          ]
        }
      ]
    }
  ]
}